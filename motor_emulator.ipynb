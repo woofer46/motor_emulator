{
 "cells": [
  {
   "cell_type": "code",
   "execution_count": 40,
   "metadata": {},
   "outputs": [],
   "source": [
    "import numpy as np\n",
    "import matplotlib.pyplot as plt\n",
    "import numpy\n",
    "#20Hz\n",
    "period_from_sensor = np.array([65535,217,100,75,66,62,61,62,63,64,63,63,63,63,64,63,63,63,62,63,63,63,62,62,63,63,64,62,63,62,63,63,64,62,62,62,63,63,64,63,63,63,63,63,64,63,64,66,71,76,81,87,94,101,112,116,65535])\n",
    "\n",
    "pwm_max = 4500\n",
    "u_max = 24 #v\n",
    "omega_from_sensor_max = 36  #ras / sec\n",
    "\n",
    "k_motor = omega_from_sensor_max / u_max\n",
    "k_pwm = omega_from_sensor_max / pwm_max\n",
    "\n"
   ]
  },
  {
   "cell_type": "code",
   "execution_count": 38,
   "metadata": {},
   "outputs": [],
   "source": [
    "class log_dt():\n",
    "    def __init__(self):\n",
    "        self.integral_dt = []\n",
    "        self.omega_error_dt = []\n",
    "        self.omega_out_dt = []\n",
    "        self.signal_dt = []\n",
    "    def add(self, integral, omega_error, omega_out, signal):\n",
    "        self.integral_dt.append(integral)\n",
    "        self.omega_error_dt.append(omega_error)\n",
    "        self.omega_out_dt.append(omega_out)\n",
    "        self.signal_dt.append(signal)"
   ]
  },
  {
   "cell_type": "code",
   "execution_count": 61,
   "metadata": {},
   "outputs": [
    {
     "data": {
      "text/plain": [
       "<matplotlib.legend.Legend at 0x1107afe48>"
      ]
     },
     "execution_count": 61,
     "metadata": {},
     "output_type": "execute_result"
    },
    {
     "data": {
      "image/png": "[encoded data removed]",
      "text/plain": [
       "<Figure size 432x288 with 1 Axes>"
      ]
     },
     "metadata": {},
     "output_type": "display_data"
    }
   ],
   "source": [
    "Tm = 0.2 / 3\n",
    "integral = 0.0\n",
    "diff = 0.0\n",
    "omega_error = 0.0\n",
    "prev_omega_error = 0.0\n",
    "dt = 1.0/20 #0.05s\n",
    "\n",
    "omega_idle = 0.0;\n",
    "d_omega_idle = 0.0;\n",
    "omega_idle_dt = [];\n",
    "\n",
    "\n",
    "omega_out_ar = [];\n",
    "omega_out = 0\n",
    "d_omega_out = 0\n",
    "signal = 0\n",
    "omega_error = 0.\n",
    "\n",
    "omega_target = 5\n",
    "time = np.arange(0,0.6,dt)\n",
    "\n",
    "kp = 0.4 #Tm / (Tz * k_motor)\n",
    "ki = 7 #* numpy.sqrt(4)#1.0 / (Tz * k_motor)\n",
    "kd = 0.\n",
    "death_signal = 2\n",
    "\n",
    "log = log_dt()\n",
    "for i in time:\n",
    "    log.add(integral,omega_error,omega_out,signal)\n",
    "\n",
    "    omega_error = omega_target - omega_out\n",
    "    integral += omega_error * dt\n",
    "    diff = (omega_error - prev_omega_error) / dt\n",
    "    prev_omega_error = omega_error\n",
    "    \n",
    "    signal = kp*omega_error + kd*diff + ki*integral\n",
    "    signal = signal + death_signal\n",
    "    d_omega_idle = (dt / Tm) * (k_motor * signal - omega_idle)\n",
    "    omega_idle += d_omega_idle\n",
    "\n",
    "    betta = 14\n",
    "    alpha = 0.051\n",
    "    if omega_idle < betta:\n",
    "        omega_out = 0\n",
    "    else:\n",
    "        d_omega_out = (dt / alpha) * (omega_idle - omega_out - betta)\n",
    "        omega_out += d_omega_out\n",
    "\n",
    "plt.figure(0)\n",
    "plt.plot(time, log.omega_out_dt, label = \"omega real\")\n",
    "plt.plot(time, log.integral_dt, label = \"integral\")\n",
    "plt.plot(time, log.omega_error_dt, label = \"omega error\")\n",
    "plt.plot(time, log.signal_dt, label = \"signal\")\n",
    "plt.legend()\n",
    "\n"
   ]
  },
  {
   "cell_type": "code",
   "execution_count": null,
   "metadata": {},
   "outputs": [],
   "source": []
  }
 ],
 "metadata": {
  "kernelspec": {
   "display_name": "Python 3",
   "language": "python",
   "name": "python3"
  },
  "language_info": {
   "codemirror_mode": {
    "name": "ipython",
    "version": 3
   },
   "file_extension": ".py",
   "mimetype": "text/x-python",
   "name": "python",
   "nbconvert_exporter": "python",
   "pygments_lexer": "ipython3",
   "version": "3.6.5"
  }
 },
 "nbformat": 4,
 "nbformat_minor": 2
}
